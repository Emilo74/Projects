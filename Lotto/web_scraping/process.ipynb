{
 "cells": [
  {
   "cell_type": "code",
   "execution_count": 1,
   "metadata": {},
   "outputs": [],
   "source": [
    "import random\n",
    "import numpy as np\n",
    "import pandas as pd\n",
    "from collections import Counter\n",
    "import matplotlib.pyplot as plt\n",
    "import collections"
   ]
  },
  {
   "cell_type": "code",
   "execution_count": 37,
   "metadata": {},
   "outputs": [],
   "source": [
    "def convert_string_to_list_of_ints(string):\n",
    "  list_of_ints = []\n",
    "  for number in string[1:-1].split(\",\"):\n",
    "    list_of_ints.append(int(number))\n",
    "  return list_of_ints\n",
    "\n",
    "def convert_df_column_to_list_of_ints(df, column_name):\n",
    "  df[column_name] = df[column_name].apply(lambda x: convert_string_to_list_of_ints(x))\n",
    "  return df"
   ]
  },
  {
   "cell_type": "code",
   "execution_count": 46,
   "metadata": {},
   "outputs": [
    {
     "data": {
      "text/html": [
       "<div>\n",
       "<style scoped>\n",
       "    .dataframe tbody tr th:only-of-type {\n",
       "        vertical-align: middle;\n",
       "    }\n",
       "\n",
       "    .dataframe tbody tr th {\n",
       "        vertical-align: top;\n",
       "    }\n",
       "\n",
       "    .dataframe thead th {\n",
       "        text-align: right;\n",
       "    }\n",
       "</style>\n",
       "<table border=\"1\" class=\"dataframe\">\n",
       "  <thead>\n",
       "    <tr style=\"text-align: right;\">\n",
       "      <th></th>\n",
       "      <th>Draw#</th>\n",
       "      <th>Winning Numbers</th>\n",
       "      <th>Multiplier</th>\n",
       "      <th>Jackpot</th>\n",
       "      <th>Wins</th>\n",
       "    </tr>\n",
       "  </thead>\n",
       "  <tbody>\n",
       "    <tr>\n",
       "      <th>0</th>\n",
       "      <td>2965</td>\n",
       "      <td>[5, 9, 18, 19, 20]</td>\n",
       "      <td>No Data</td>\n",
       "      <td>180050.24</td>\n",
       "      <td>4</td>\n",
       "    </tr>\n",
       "    <tr>\n",
       "      <th>1</th>\n",
       "      <td>2966</td>\n",
       "      <td>[2, 3, 9, 15, 19]</td>\n",
       "      <td>No Data</td>\n",
       "      <td>150373.93</td>\n",
       "      <td>4</td>\n",
       "    </tr>\n",
       "    <tr>\n",
       "      <th>2</th>\n",
       "      <td>2967</td>\n",
       "      <td>[4, 5, 9, 12, 13]</td>\n",
       "      <td>No Data</td>\n",
       "      <td>155579.75</td>\n",
       "      <td>6</td>\n",
       "    </tr>\n",
       "    <tr>\n",
       "      <th>3</th>\n",
       "      <td>2968</td>\n",
       "      <td>[2, 7, 10, 16, 18]</td>\n",
       "      <td>No Data</td>\n",
       "      <td>167933.31</td>\n",
       "      <td>12</td>\n",
       "    </tr>\n",
       "    <tr>\n",
       "      <th>4</th>\n",
       "      <td>2969</td>\n",
       "      <td>[2, 7, 10, 13, 17]</td>\n",
       "      <td>No Data</td>\n",
       "      <td>141164.37</td>\n",
       "      <td>8</td>\n",
       "    </tr>\n",
       "  </tbody>\n",
       "</table>\n",
       "</div>"
      ],
      "text/plain": [
       "   Draw#     Winning Numbers Multiplier    Jackpot Wins\n",
       "0   2965  [5, 9, 18, 19, 20]    No Data  180050.24    4\n",
       "1   2966   [2, 3, 9, 15, 19]    No Data  150373.93    4\n",
       "2   2967   [4, 5, 9, 12, 13]    No Data  155579.75    6\n",
       "3   2968  [2, 7, 10, 16, 18]    No Data  167933.31   12\n",
       "4   2969  [2, 7, 10, 13, 17]    No Data  141164.37    8"
      ]
     },
     "execution_count": 46,
     "metadata": {},
     "output_type": "execute_result"
    }
   ],
   "source": [
    "df = pd.read_csv('may_10-jun_23.csv')\n",
    "df = convert_df_column_to_list_of_ints(df, \"Winning Numbers\")\n",
    "df.head()"
   ]
  },
  {
   "cell_type": "code",
   "execution_count": 49,
   "metadata": {},
   "outputs": [],
   "source": [
    "def plot_graph(dict_data):\n",
    "  sorted_dict_data = collections.OrderedDict(sorted(dict_data.items(), key=lambda x: x[1]))\n",
    "\n",
    "  # Create a list of the numbers.\n",
    "  numbers = list(sorted_dict_data.keys())\n",
    "\n",
    "  # Create a list of the count occurrences.\n",
    "  count_occurrences = list(sorted_dict_data.values())\n",
    "\n",
    "  # Create a bar graph.\n",
    "  plt.bar(numbers, count_occurrences)\n",
    "  plt.xlabel(\"Number\")\n",
    "  plt.ylabel(\"Count Occurrences\")\n",
    "  \n",
    "  plt.xticks(list(range(min(numbers), max(numbers) + 1)))\n",
    "  plt.show()"
   ]
  },
  {
   "cell_type": "code",
   "execution_count": 47,
   "metadata": {},
   "outputs": [
    {
     "name": "stdout",
     "output_type": "stream",
     "text": [
      "{5: 1007, 9: 1023, 18: 960, 19: 949, 20: 903, 2: 971, 3: 960, 15: 993, 4: 981, 12: 999, 13: 988, 7: 1021, 10: 1008, 16: 979, 17: 964, 6: 959, 11: 979, 8: 969, 1: 964, 14: 993}\n"
     ]
    }
   ],
   "source": [
    "count_dict = {}\n",
    "for row in df[\"Winning Numbers\"]:\n",
    "    for number in row:\n",
    "      if number not in count_dict:\n",
    "        count_dict[number] = 0\n",
    "      count_dict[number] += 1\n",
    "\n",
    "      \n",
    "print(count_dict)"
   ]
  },
  {
   "cell_type": "code",
   "execution_count": 50,
   "metadata": {},
   "outputs": [
    {
     "data": {
      "image/png": "[encoded data removed]",
      "text/plain": [
       "<Figure size 640x480 with 1 Axes>"
      ]
     },
     "metadata": {},
     "output_type": "display_data"
    }
   ],
   "source": [
    "plot_graph(count_dict)"
   ]
  },
  {
   "cell_type": "code",
   "execution_count": null,
   "metadata": {},
   "outputs": [],
   "source": []
  }
 ],
 "metadata": {
  "kernelspec": {
   "display_name": "lotto",
   "language": "python",
   "name": "python3"
  },
  "language_info": {
   "codemirror_mode": {
    "name": "ipython",
    "version": 3
   },
   "file_extension": ".py",
   "mimetype": "text/x-python",
   "name": "python",
   "nbconvert_exporter": "python",
   "pygments_lexer": "ipython3",
   "version": "3.11.3"
  },
  "orig_nbformat": 4
 },
 "nbformat": 4,
 "nbformat_minor": 2
}
